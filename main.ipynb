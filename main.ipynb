{
 "cells": [
  {
   "cell_type": "code",
   "execution_count": 55,
   "metadata": {},
   "outputs": [],
   "source": [
    "import matplotlib.pyplot as plt"
   ]
  },
  {
   "cell_type": "code",
   "execution_count": 56,
   "metadata": {},
   "outputs": [],
   "source": [
    "class Water:\n",
    "    def __init__(self, volume=0.0, NH4=0.0, NO3=0.0, bzv=0.0, O2=0.0):\n",
    "        self.volume = volume # m3\n",
    "        self.NH4 = NH4  # mg/l\n",
    "        self.NO3 = NO3  # mg/l\n",
    "        self.bzv = bzv  # mg/l\n",
    "        self.O2 = O2  # mg/l\n",
    "\n",
    "        self.NH4_absoluut = (self.NH4 * (self.volume*1000))  # mg\n",
    "        self.NO3_absoluut = (self.NO3 * (self.volume*1000))  # mg\n",
    "        self.bzv_absoluut = (self.bzv * (self.volume*1000))  # mg\n",
    "        self.O2_absoluut = (self.O2 * (self.volume*1000))  # mg\n",
    "\n",
    "    def update_NH4(self, NH4):\n",
    "        self.NH4 = NH4  # mg/l\n",
    "        self.NH4_absoluut = (self.NH4 * (self.volume*1000))  # mg\n",
    "        \n",
    "    def update_NO3(self, NO3):\n",
    "        self.NO3 = NO3  # mg/l\n",
    "        self.NO3_absoluut = (self.NO3 * (self.volume*1000))  # mg\n",
    "\n",
    "    def update_bzv(self, bzv):\n",
    "        self.bzv = bzv  # mg/l\n",
    "        self.bzv_absoluut = (self.bzv * (self.volume*1000))  # mg\n",
    "\n",
    "    def update_O2(self, O2):\n",
    "        self.O2 = O2  # mg/l\n",
    "        self.O2_absoluut = (self.O2 * (self.volume*1000))  # mg\n",
    "    \n",
    "    def get_absoluut(self):\n",
    "        '''\n",
    "        returns\n",
    "            volume \n",
    "                m3\n",
    "            NH4\n",
    "                mg\n",
    "            NO3\n",
    "                mg\n",
    "            bzv\n",
    "                mg\n",
    "            O2\n",
    "                mg\n",
    "        '''\n",
    "        return self.volume, self.NH4_absoluut, self.NO3_absoluut, self.bzv_absoluut, self.O2_absoluut\n",
    "    \n",
    "    def __str__(self):\n",
    "        return \"Volume = {:.1f}m3\\tNH4 = {:.4f}mg/l\\tNO3 = {:.4f}mg/l\\tvaste_stof = {:.4f}mg/l\".format(self.volume, self.NH4, self.NO3, self.bzv)"
   ]
  },
  {
   "cell_type": "code",
   "execution_count": 57,
   "metadata": {},
   "outputs": [],
   "source": [
    "class Tank(Water):\n",
    "    def __init__(self, volume=0.0, NH4=0.0, NO3=0.0, bzv=0.0, O2=0.0):\n",
    "        super().__init__(volume=volume, NH4=NH4, NO3=NO3, bzv=bzv, O2=O2)\n",
    "\n",
    "        self.volume_tank = volume"
   ]
  },
  {
   "cell_type": "code",
   "execution_count": 58,
   "metadata": {},
   "outputs": [],
   "source": [
    "class AnoxischeTank(Tank):\n",
    "    def __init__(self, volume=0.0, NH4=0.0, NO3=0.0, bzv=0.0, denitrificatiesnelheid=0.1):\n",
    "        super().__init__(volume=volume, NH4=NH4, NO3=NO3, bzv=bzv)\n",
    "        \n",
    "        self.denitrificatiesnelheid = denitrificatiesnelheid  # mg/s\n",
    "        # self.bzv_snelheid = self.denitrificatiesnelheid/0.7\n",
    "        self.molverhouding_bzv_no3 = 5.16\n",
    "\n",
    "    def step(self, water_influent, water_recirculatie, t=900):\n",
    "        volume_influent, NH4_influent, NO3_influent, bzv_influent, _ = water_influent.get_absoluut()\n",
    "        volume_recirculatie, NH4_recirculatie, NO3_recirculatie, bzv_recirculatie, _ = water_recirculatie.get_absoluut()\n",
    "\n",
    "        volume_tank, NH4_tank, NO3_tank, bzv_tank, _ = self.get_absoluut()\n",
    "\n",
    "        volume_tot = volume_influent + volume_recirculatie + volume_tank  # m3\n",
    "        # print(NH4_influent)\n",
    "        # print(NH4_recirculatie)\n",
    "        print(NH4_tank)\n",
    "        NH4_tot = NH4_influent + NH4_recirculatie + NH4_tank  # mg\n",
    "        NO3_tot = NO3_influent + NO3_recirculatie + NO3_tank  # mg\n",
    "        bzv_tot = bzv_influent + bzv_recirculatie + bzv_tank  # mg\n",
    "        \n",
    "        # denitrificatie\n",
    "        #2NO3 + 4H + bzv(2c) --> N2 + 2H2O + 2CO2\n",
    "        # print(\"den*t: {:.2f}, no3_tot: {:.2f}, bzvtot/mv: {:.2f}\".format(self.denitrificatiesnelheid * t, NO3_tot, bzv_tot/self.molverhouding_bzv_no3))\n",
    "        NO3_verlies = min(self.denitrificatiesnelheid * t, NO3_tot, bzv_tot/self.molverhouding_bzv_no3)  # mg\n",
    "        bzv_verlies = self.molverhouding_bzv_no3 * NO3_verlies  # mg\n",
    "\n",
    "        NO3_tot = NO3_tot - NO3_verlies  # mg\n",
    "        bzv_tot = bzv_tot - bzv_verlies  # mg\n",
    "\n",
    "        volume_effluent = volume_tot - self.volume_tank   # m3\n",
    "        NH4_effluent = (NH4_tot / (volume_tot * 1000))  # mg/l\n",
    "        NO3_effluent = (NO3_tot / (volume_tot * 1000))  # mg/l\n",
    "        bzv_effluent = (bzv_tot / (volume_tot * 1000))  # mg/l\n",
    "\n",
    "        water_effluent = Water(volume=volume_effluent, NH4=NH4_effluent, NO3=NO3_effluent, bzv=bzv_effluent)\n",
    "\n",
    "        self.update_NH4(NH4_tot / (volume_tot * 1000))  # mg/l\n",
    "        self.update_NO3(NO3_tot / (volume_tot * 1000))  # mg/l\n",
    "        self.update_bzv(bzv_tot / (volume_tot * 1000))  # mg/l\n",
    "\n",
    "\n",
    "        return water_effluent"
   ]
  },
  {
   "cell_type": "code",
   "execution_count": 59,
   "metadata": {},
   "outputs": [],
   "source": [
    "class Beluchtingstank(Tank):\n",
    "    def __init__(self, volume=0.0, NH4=0.0, NO3=0.0, vaste_stof=0.0, O2=0.0, temperatuur=0.0):\n",
    "        super().__init__(volume, NH4, NO3, vaste_stof)\n",
    "        self.O2 = O2  # mg/l\n",
    "        self.temperatuur = temperatuur  # °C\n",
    "        "
   ]
  },
  {
   "cell_type": "code",
   "execution_count": null,
   "metadata": {},
   "outputs": [],
   "source": []
  },
  {
   "cell_type": "code",
   "execution_count": 60,
   "metadata": {},
   "outputs": [],
   "source": [
    "influent = Water(volume=25, NH4=5, bzv=0.1)\n",
    "\n",
    "anoxische_tank = AnoxischeTank(volume=1000)\n",
    "beluchtingstank = Beluchtingstank(volume=1000)\n",
    "# nabezinktank = Nabezinktank(volume=1000)\n",
    "\n",
    "recirculatie = Water()\n",
    "effluent = Water()"
   ]
  },
  {
   "cell_type": "code",
   "execution_count": 61,
   "metadata": {},
   "outputs": [
    {
     "name": "stdout",
     "output_type": "stream",
     "text": [
      "125000\n",
      "0.0\n",
      "0.0\n",
      "125000\n",
      "0.0\n",
      "0.0\n",
      "125000\n",
      "0.0\n",
      "0.0\n",
      "125000\n",
      "0.0\n",
      "0.0\n",
      "125000\n",
      "0.0\n",
      "0.0\n",
      "125000\n",
      "0.0\n",
      "0.0\n",
      "125000\n",
      "0.0\n",
      "0.0\n",
      "125000\n",
      "0.0\n",
      "0.0\n",
      "125000\n",
      "0.0\n",
      "0.0\n",
      "125000\n",
      "0.0\n",
      "0.0\n"
     ]
    }
   ],
   "source": [
    "nh4_range = list()\n",
    "\n",
    "time_range = list(range(10))\n",
    "\n",
    "for t in time_range:\n",
    "    beluchtingstank_stroom = anoxische_tank.step(influent, recirculatie)\n",
    "    # recirculatie, effluent = beluchtingstank.step(beluchtingstank_stroom)\n",
    "    # effluent = nabezinktank.step(nabezink_stroom)\n",
    "    volume, NH4, NO3, bzv, O2 = beluchtingstank_stroom.get_absoluut()\n",
    "    # print(influent.bzv)\n",
    "    # print(beluchtingstank_stroom.bzv)"
   ]
  }
 ],
 "metadata": {
  "interpreter": {
   "hash": "d89a0aa03eaeff6785fc4eb29fe60a2cc3113b9b40837cd4af625b4e35e7ade2"
  },
  "kernelspec": {
   "display_name": "Python 3.8.5 ('zuiveringsmodel')",
   "language": "python",
   "name": "python3"
  },
  "language_info": {
   "codemirror_mode": {
    "name": "ipython",
    "version": 3
   },
   "file_extension": ".py",
   "mimetype": "text/x-python",
   "name": "python",
   "nbconvert_exporter": "python",
   "pygments_lexer": "ipython3",
   "version": "3.8.11"
  },
  "orig_nbformat": 4
 },
 "nbformat": 4,
 "nbformat_minor": 2
}
