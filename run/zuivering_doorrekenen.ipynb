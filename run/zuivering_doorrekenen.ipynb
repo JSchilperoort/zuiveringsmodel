{
 "cells": [
  {
   "cell_type": "markdown",
   "metadata": {},
   "source": [
    "## Zuiveringsmodel\n",
    "\n",
    "Je hebt toegang gekregen tot een model dat de stikstofverwijdering in een RWZI simuleert. Aan de hand van gegevens over het influent (volume en ammonium), de hoeveelheid beluchting en de recirculatie kan dit model de kwaliteit van het effluent berekenen."
   ]
  },
  {
   "cell_type": "code",
   "execution_count": null,
   "metadata": {},
   "outputs": [],
   "source": [
    "# imports en inladen data\n",
    "\n",
    "import pandas as pd\n",
    "import numpy as np\n",
    "\n",
    "from model_zuivering import zuivering\n",
    "\n",
    "path = r'../data/influent.csv'\n",
    "influent_df = pd.read_csv(path)\n",
    "influent_df['Datumtijd'] = pd.to_datetime(influent_df['Datumtijd'])"
   ]
  },
  {
   "cell_type": "code",
   "execution_count": null,
   "metadata": {},
   "outputs": [],
   "source": [
    "def bereken_energieverbruik(beluchting_W, recirculatie_W, t=15*60):\n",
    "    '''\n",
    "    Berekent de hoeveelheid energie die wordt verbruikt gedurende een periode dat de pompen aanstaan\n",
    "\n",
    "    Parameters\n",
    "    ----------\n",
    "        beluchting_W: int\n",
    "            Hoeveelheid beluchting in W\n",
    "        recirculatie_W: int\n",
    "            Recirculatie in W\n",
    "        t: int\n",
    "            Tijd in s dat de pompen aanstaan\n",
    "\n",
    "    Returns\n",
    "    ----------\n",
    "        energie_verbruik_in_kWh: float\n",
    "            Energieverbruik in kWh\n",
    "    '''\n",
    "\n",
    "    energie_verbruik_in_J = t * (beluchting_W + recirculatie_W)  # J\n",
    "    energie_verbruik_in_kWh =  0.0000002777777777777778 * energie_verbruik_in_J  # kWh\n",
    "    return energie_verbruik_in_kWh\n"
   ]
  },
  {
   "cell_type": "code",
   "execution_count": null,
   "metadata": {},
   "outputs": [],
   "source": [
    "def statische_optimalisatie(influent_df, vermogen_beluchting, vermogen_recirculatie):\n",
    "    '''\n",
    "    Rekent de stikstofverwijdering van de zuivering door aan de hand van influent data en statische waardes voor het vermogen van de pompen. \n",
    "\n",
    "    Parameters\n",
    "    ----------\n",
    "        influent_df: DataFrame\n",
    "            Gegevens over het influent: \n",
    "                volume: float\n",
    "                    Volume van het influent gedurende 15 minuten in m3\n",
    "                NH4: float\n",
    "                    Concentratie ammonium in het influent in mg/l\n",
    "        vermogen_beluchting: int\n",
    "            Hoeveelheid beluchting in W\n",
    "        vermogen_recirculatie: int\n",
    "            Recirculatie in W\n",
    "\n",
    "    Returns\n",
    "    ----------\n",
    "        effluent_df: DataFrame\n",
    "                volume: float\n",
    "                    Volume van het influent gedurende 15 minuten in m3\n",
    "                NH4: float\n",
    "                    Concentratie ammonium in het influent in mg/l\n",
    "                effluent_n_tot: float\n",
    "                    Concentratie stikstof in het effluent in mg/l\n",
    "                energieverbruik: float\n",
    "                    Hoeveelheid verbruikte energie in kWh\n",
    "                effluent_ok: bool\n",
    "                    Of de concentratie stikstof in het effluent binnen de norm is\n",
    "    '''\n",
    "    \n",
    "    rwzi = zuivering.Zuivering()\n",
    "    effluent_n_tot = list()\n",
    "    energieverbruik = list()\n",
    "\n",
    "    for _, row in influent_df.iterrows(): \n",
    "        effluent_n_tot.append(rwzi.step(row['volume'], row['NH4'], vermogen_beluchting, vermogen_recirculatie))\n",
    "        energieverbruik.append(bereken_energieverbruik(vermogen_beluchting, vermogen_recirculatie))  # kWh\n",
    "\n",
    "    effluent_df = influent_df.copy()\n",
    "    effluent_df['effluent_N_tot'] = effluent_n_tot\n",
    "    effluent_df['energieverbruik'] = energieverbruik\n",
    "    effluent_df['effluent_ok'] = np.where(effluent_df['effluent_N_tot'] <= 10, True, False)\n",
    "\n",
    "    return effluent_df\n",
    "\n"
   ]
  },
  {
   "cell_type": "markdown",
   "metadata": {},
   "source": [
    "## Statische optimalisatie\n",
    "\n",
    "Vanaf hier kan je gaan experimenteren met de beluchting en recirculatie. "
   ]
  },
  {
   "cell_type": "code",
   "execution_count": null,
   "metadata": {},
   "outputs": [],
   "source": [
    "\n",
    "# probeer eens andere waardes voor deze parameters. Blijft het effluent schoon? \n",
    "vermogen_beluchting = 30000  # W\n",
    "vermogen_recirculatie = 5000  # W\n",
    "\n",
    "effluent_df = statische_optimalisatie(influent_df, vermogen_beluchting, vermogen_recirculatie)\n",
    "totaal_energieverbruik = effluent_df['energieverbruik'].sum()\n",
    "proportie_schoon_effluent = len(effluent_df[effluent_df['effluent_ok']]) / len(effluent_df)\n",
    "\n",
    "\n",
    "print('Totaal energieverbruik: {:.0f}kWh'.format(totaal_energieverbruik))\n",
    "print('Percentage van de tijd dat de effluentkwaliteit binnen de norm bleef: {:.1f}%'.format(100*proportie_schoon_effluent))"
   ]
  },
  {
   "cell_type": "markdown",
   "metadata": {},
   "source": [
    "---"
   ]
  },
  {
   "cell_type": "markdown",
   "metadata": {},
   "source": [
    "## Dynamische optimalisatie\n",
    "\n",
    "Vanaf hier kun je experimenteren met een dynamische optimalisatie. Je mag aannemen dat je tot 6 uur in de toekomst het influent kan voorspellen."
   ]
  },
  {
   "cell_type": "code",
   "execution_count": null,
   "metadata": {},
   "outputs": [],
   "source": [
    "def dynamische_optimalisatie(influent):\n",
    "    '''\n",
    "    Berekent de hoeveelheid beluchting en recirculatie aan de hand van het recente en aankomende influent\n",
    "\n",
    "    Parameters\n",
    "    ----------\n",
    "        influent: DataFrame\n",
    "            Gegevens over het influent van de afgelopen en komende 6 uur: \n",
    "                volume: float\n",
    "                    Volume van het influent gedurende 15 minuten in m3\n",
    "                NH4: float\n",
    "                    Concentratie ammonium in het influent in mg/l\n",
    "\n",
    "    Returns\n",
    "    ----------\n",
    "        beluchting: int\n",
    "            Hoeveelheid beluchting in W\n",
    "        recirculatie: int\n",
    "            Recirculatie in W\n",
    "    '''\n",
    "    #------------------------------------------------------------------------------\n",
    "    #TODO vanaf hier kan je alles proberen wat je wil\n",
    "\n",
    "    gemiddeld = influent.mean()\n",
    "    volume = gemiddeld['volume']\n",
    "    ammonium = gemiddeld['NH4']\n",
    "\n",
    "    \n",
    "    beluchting = 1000 * volume + 100 * ammonium\n",
    "    recirculatie = 10 * volume +  100 * ammonium\n",
    "    #------------------------------------------------------------------------------\n",
    "\n",
    "    return min(beluchting, 40000), min(recirculatie, 5500)  # maximale capaciteit meegenomen"
   ]
  },
  {
   "cell_type": "markdown",
   "metadata": {},
   "source": [
    "Voer onderstaande cel uit om je dynamische optimalisatie toe te passen en om te zetten naar een effluent df"
   ]
  },
  {
   "cell_type": "code",
   "execution_count": null,
   "metadata": {},
   "outputs": [],
   "source": [
    "\n",
    "rwzi = zuivering.Zuivering()\n",
    "effluent_n_tot = list()\n",
    "energieverbruik = list()\n",
    "\n",
    "for index, row in influent_df.iterrows(): \n",
    "    vermogen_beluchting, vermogen_recirculatie = dynamische_optimalisatie(influent_df.loc[index-6*4:index+6*4-1,:])  # geeft recente en toekomstig influent mee\n",
    "\n",
    "    effluent_n_tot.append(rwzi.step(row['volume'], row['NH4'], vermogen_beluchting, vermogen_recirculatie))\n",
    "    energieverbruik.append(bereken_energieverbruik(vermogen_beluchting, vermogen_recirculatie))  # kWh\n",
    "\n",
    "effluent_df = influent_df.copy()\n",
    "effluent_df['effluent_N_tot'] = effluent_n_tot\n",
    "effluent_df['energieverbruik'] = energieverbruik\n",
    "effluent_df['effluent_ok'] = np.where(effluent_df['effluent_N_tot'] <= 10, True, False)\n",
    "\n",
    "\n",
    "totaal_energieverbruik = effluent_df['energieverbruik'].sum()\n",
    "proportie_schoon_effluent = len(effluent_df[effluent_df['effluent_ok']]) / len(effluent_df)\n",
    "\n",
    "\n",
    "print('Totaal energieverbruik: {:.0f}kWh'.format(totaal_energieverbruik))\n",
    "print('Percentage van de tijd dat de effluentkwaliteit binnen de norm bleef: {:.1f}%'.format(100*proportie_schoon_effluent))"
   ]
  }
 ],
 "metadata": {
  "interpreter": {
   "hash": "33059d425fcfee577e06018c78ad24739e717fdadffbeab10fa06fe261eaa096"
  },
  "kernelspec": {
   "display_name": "Python 3.8.11 ('newenv')",
   "language": "python",
   "name": "python3"
  },
  "language_info": {
   "codemirror_mode": {
    "name": "ipython",
    "version": 3
   },
   "file_extension": ".py",
   "mimetype": "text/x-python",
   "name": "python",
   "nbconvert_exporter": "python",
   "pygments_lexer": "ipython3",
   "version": "3.8.11"
  },
  "orig_nbformat": 4
 },
 "nbformat": 4,
 "nbformat_minor": 2
}
