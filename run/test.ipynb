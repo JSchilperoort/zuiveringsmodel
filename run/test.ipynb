{
 "cells": [
  {
   "cell_type": "code",
   "execution_count": 5,
   "metadata": {},
   "outputs": [],
   "source": [
    "import pandas as pd\n",
    "from tqdm import tqdm\n",
    "from model_zuivering import water, tanks"
   ]
  },
  {
   "cell_type": "code",
   "execution_count": 6,
   "metadata": {},
   "outputs": [
    {
     "name": "stdout",
     "output_type": "stream",
     "text": [
      "37\n"
     ]
    },
    {
     "name": "stderr",
     "output_type": "stream",
     "text": [
      "100%|██████████| 1/1 [00:00<00:00,  3.54it/s]\n"
     ]
    }
   ],
   "source": [
    "recirculatie_w_range = [10, 20, 30, 40, 50, 60, 70, 80, 90, 100, 150, 200, 250, 300, 400, 500, 600, 700, 800, 900, 1000, 1250, 1500, 1750, 2000, 2250, 2500, 2750, 3000, 3250, 3500, 3750, 4000, 4250, 4500, 4750, 5000]\n",
    "print(len(recirculatie_w_range))\n",
    "\n",
    "df = pd.DataFrame(columns=('influent_NH4', 'influent_volume', 'beluchting', 'recirculatie', 'effluent_N_tot'))\n",
    "i = 0\n",
    "# w, rw, v_n, v_b, v_d,\n",
    "\n",
    "# bij influent = Water(volume=100, NH4=50, bzv=850)\n",
    "# w_range = [100 * i for i in range(0, 50)]\n",
    "# r_w_range = [100 * i for i in range(0, 50)]\n",
    "\n",
    "beluchting_w_range = [10000 * i for i in range(0, 4 + 1)]\n",
    "recirculatie_w_range = [1000 * i for i in range(0, 5 + 1)]\n",
    "\n",
    "influent_nh4_range = [50]  # [5 * i for i in range(7, 11 + 1)]\n",
    "influent_volume_range = [25]  # [10 * i for i in range(0 + 1, 10 + 1)]\n",
    "\n",
    "for influent_nh4 in tqdm(influent_nh4_range):\n",
    "    for influent_volume in influent_volume_range:\n",
    "        # influent per kwartier\n",
    "        influent = water.Influent(volume=influent_volume, NH4=influent_nh4)\n",
    "        for w in beluchting_w_range:\n",
    "            for r_w in recirculatie_w_range:\n",
    "                anoxische_tank = tanks.AnoxischeTank(volume=1440)\n",
    "                beluchtingstank = tanks.Beluchtingstank(volume=960)\n",
    "\n",
    "                recirculatie = water.Water()\n",
    "                effluent = water.Water()\n",
    "\n",
    "                time_range = list(range(1344))  # 1344 kwartier = 2 weken\n",
    "                previous_ntot = -10000000\n",
    "                for t in time_range:\n",
    "                    beluchtingstank_stroom, _ = anoxische_tank.step(\n",
    "                        influent, recirculatie)\n",
    "                    beluchting_W = w  # W\n",
    "                    recirculatie_W = r_w  # W\n",
    "                    recirculatie, effluent, _ = beluchtingstank.step(\n",
    "                        beluchtingstank_stroom, beluchting_W, recirculatie_W)\n",
    "                    if (effluent.NH4 + effluent.NO3) == previous_ntot:\n",
    "                        break\n",
    "                    previous_ntot = effluent.NH4 + effluent.NO3\n",
    "\n",
    "                df.loc[i] = [influent_nh4, influent_volume, w, r_w, effluent.NH4 + effluent.NO3]\n",
    "                i += 1\n",
    "\n",
    "df.to_csv(\"test_df.csv\")\n",
    "\n"
   ]
  }
 ],
 "metadata": {
  "interpreter": {
   "hash": "d89a0aa03eaeff6785fc4eb29fe60a2cc3113b9b40837cd4af625b4e35e7ade2"
  },
  "kernelspec": {
   "display_name": "Python 3.8.5 ('zuiveringsmodel')",
   "language": "python",
   "name": "python3"
  },
  "language_info": {
   "codemirror_mode": {
    "name": "ipython",
    "version": 3
   },
   "file_extension": ".py",
   "mimetype": "text/x-python",
   "name": "python",
   "nbconvert_exporter": "python",
   "pygments_lexer": "ipython3",
   "version": "3.8.11"
  },
  "orig_nbformat": 4
 },
 "nbformat": 4,
 "nbformat_minor": 2
}
